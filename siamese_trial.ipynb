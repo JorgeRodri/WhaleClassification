{
 "cells": [
  {
   "cell_type": "code",
   "execution_count": 39,
   "metadata": {},
   "outputs": [],
   "source": [
    "# python basic pacakages\n",
    "import aifc\n",
    "import os\n",
    "import datetime\n",
    "from os import listdir\n",
    "from os.path import isfile, join\n",
    "import csv\n",
    "\n",
    "# required packags\n",
    "import tensorflow as tf\n",
    "import numpy as np\n",
    "import pandas as pd\n",
    "\n",
    "from matplotlib import mlab\n",
    "import matplotlib.pyplot as plt\n",
    "from sklearn.model_selection import train_test_split\n",
    "\n",
    "# my packages\n",
    "from DataManager.Audio import *\n",
    "from DataManager.General import *"
   ]
  },
  {
   "cell_type": "code",
   "execution_count": 30,
   "metadata": {},
   "outputs": [],
   "source": [
    "# labels_path = \"C:\\\\Users\\\\jorge\\\\DatasetsTFM\\\\KaggleData\\\\train.csv\"\n",
    "# train_path = \"C:\\\\Users\\\\jorge\\\\DatasetsTFM\\\\KaggleData\\\\train\"\n",
    "\n",
    "labels_path = \"data/train.csv\"\n",
    "train_path = \"data/train\"\n",
    "\n",
    "limitator = 1000"
   ]
  },
  {
   "cell_type": "code",
   "execution_count": 31,
   "metadata": {},
   "outputs": [],
   "source": [
    "audiofiles = [os.path.join(train_path, f) for f in listdir(train_path) if isfile(join(train_path, f))]"
   ]
  },
  {
   "cell_type": "code",
   "execution_count": 32,
   "metadata": {},
   "outputs": [
    {
     "name": "stdout",
     "output_type": "stream",
     "text": [
      "Generating train and test split\n",
      "Getting test spectrograms\n",
      "Getting train spectrograms + enhancement\n",
      "Getting even more data adding noise to whale calls\n",
      "Test (300, 40, 40)\n",
      "Train (2598, 40, 40)\n"
     ]
    }
   ],
   "source": [
    "labels_dict = get_labels(labels_path)\n",
    "\n",
    "# Get a random permutation to remove ordering bias\n",
    "np.random.shuffle(audiofiles)\n",
    "\n",
    "# convert the list of files to numpy arrays and select a random smaller version if limitador is not None\n",
    "X_path = np.array(audiofiles)[:limitator]\n",
    "\n",
    "# Start the process of data extraction, spectrogram transformation and data enhancement\n",
    "print('Generating train and test split')\n",
    "X_train_path, X_test_path = train_test_split(X_path, test_size=0.3)\n",
    "\n",
    "print('Getting test spectrograms')\n",
    "X_test, Y_test = get_spects(X_test_path, labels_dict)\n",
    "\n",
    "print('Getting train spectrograms + enhancement')\n",
    "X_train, Y_train = get_spects_enhanced(X_train_path, labels_dict)\n",
    "\n",
    "print('Getting even more data adding noise to whale calls')\n",
    "X_enhanced, Y_enhanced = enhance_with_noise(X_train, Y_train)\n",
    "\n",
    "X_train, Y_train = np.concatenate([X_train, X_enhanced]), np.concatenate([Y_train, Y_enhanced])\n",
    "\n",
    "print('Test', X_test.shape)\n",
    "\n",
    "print('Train', X_train.shape)\n"
   ]
  },
  {
   "cell_type": "code",
   "execution_count": 33,
   "metadata": {},
   "outputs": [
    {
     "name": "stdout",
     "output_type": "stream",
     "text": [
      "Test: Whale 58, Not Whale 242\n",
      "Train: Whale 996, Not Whale 1602\n"
     ]
    }
   ],
   "source": [
    "print('Test: Whale %d, Not Whale %d' % ((Y_test == '1').sum(), (Y_test == '0').sum()))\n",
    "\n",
    "print('Train: Whale %d, Not Whale %d' % ((Y_train == '1').sum(), (Y_train == '0').sum()) )"
   ]
  },
  {
   "cell_type": "code",
   "execution_count": 34,
   "metadata": {},
   "outputs": [
    {
     "data": {
      "text/plain": [
       "'Tamaño en memoria de los datos de training aprox: 0.03GB'"
      ]
     },
     "execution_count": 34,
     "metadata": {},
     "output_type": "execute_result"
    }
   ],
   "source": [
    "'Tamaño en memoria de los datos de training aprox: %.2fGB' % (X_train.nbytes/2**10/2**10/2**10)"
   ]
  },
  {
   "cell_type": "code",
   "execution_count": 35,
   "metadata": {},
   "outputs": [
    {
     "name": "stdout",
     "output_type": "stream",
     "text": [
      "Training model\n",
      "Epoch 1/10\n",
      "2598/2598 [==============================] - 3s 1ms/sample - loss: 5.9085 - acc: 0.6155\n",
      "Epoch 2/10\n",
      "2598/2598 [==============================] - 3s 1ms/sample - loss: 5.8959 - acc: 0.6166\n",
      "Epoch 3/10\n",
      "2598/2598 [==============================] - 2s 955us/sample - loss: 5.8959 - acc: 0.6166\n",
      "Epoch 4/10\n",
      "2598/2598 [==============================] - 2s 933us/sample - loss: 5.8959 - acc: 0.6166\n",
      "Epoch 5/10\n",
      "2598/2598 [==============================] - 2s 933us/sample - loss: 5.8959 - acc: 0.6166\n",
      "Epoch 6/10\n",
      "2598/2598 [==============================] - 2s 945us/sample - loss: 5.8959 - acc: 0.6166\n",
      "Epoch 7/10\n",
      "2598/2598 [==============================] - 2s 936us/sample - loss: 5.8959 - acc: 0.6166\n",
      "Epoch 8/10\n",
      "2598/2598 [==============================] - 2s 941us/sample - loss: 5.8959 - acc: 0.6166\n",
      "Epoch 9/10\n",
      "2598/2598 [==============================] - 2s 950us/sample - loss: 5.8959 - acc: 0.6166\n",
      "Epoch 10/10\n",
      "2598/2598 [==============================] - 2s 956us/sample - loss: 5.8959 - acc: 0.6166\n",
      "300/300 [==============================] - 0s 332us/sample - loss: 2.9733 - acc: 0.8067\n"
     ]
    }
   ],
   "source": [
    "Y_train, Y_test = Y_train.astype(int), Y_test.astype(int)\n",
    "Y_train, Y_test = tf.keras.utils.to_categorical(Y_train, 2), tf.keras.utils.to_categorical(Y_test, 2) \n",
    "\n",
    "X_train = X_train.reshape(X_train.shape[0], X_train.shape[1], X_train.shape[2], 1)\n",
    "X_test = X_test.reshape(X_test.shape[0], X_test.shape[1], X_test.shape[2], 1)\n",
    "\n",
    "\n",
    "model = tf.keras.models.Sequential([\n",
    "    tf.keras.layers.Conv2D(20, kernel_size=(7, 7), activation=tf.nn.relu, input_shape=X_train.shape[1:], name='Conv1'),\n",
    "    tf.keras.layers.Dropout(0.2),  \n",
    "    tf.keras.layers.MaxPooling2D(pool_size=(2, 2)),\n",
    "    tf.keras.layers.Conv2D(40, kernel_size=(7, 7), activation=tf.nn.relu, name='Conv2'),\n",
    "    tf.keras.layers.MaxPooling2D(pool_size=(2, 2)),\n",
    "    tf.keras.layers.Flatten(),\n",
    "    tf.keras.layers.Dense(512, activation=tf.nn.relu, name=\"Dense1\"),\n",
    "    tf.keras.layers.Dropout(0.2),\n",
    "    tf.keras.layers.Dense(2, activation=tf.nn.softmax, name=\"Softmax\")\n",
    "    ])\n",
    "model.compile(optimizer='sgd',\n",
    "              loss='binary_crossentropy',\n",
    "              metrics=['accuracy'])\n",
    "\n",
    "print('Training model')\n",
    "history = model.fit(X_train, Y_train, epochs=10, verbose=1)\n",
    "score = model.evaluate(X_test, Y_test)"
   ]
  },
  {
   "cell_type": "code",
   "execution_count": 40,
   "metadata": {},
   "outputs": [
    {
     "name": "stdout",
     "output_type": "stream",
     "text": [
      "[2.9732913176218667, 0.8066667]\n",
      "Finished at 2019-08-21 23:25:15.226185, saving the results as graphs.\n"
     ]
    },
    {
     "data": {
      "image/png": "[encoded data removed]",
      "text/plain": [
       "<Figure size 432x288 with 1 Axes>"
      ]
     },
     "metadata": {
      "needs_background": "light"
     },
     "output_type": "display_data"
    },
    {
     "data": {
      "image/png": "[encoded data removed]",
      "text/plain": [
       "<Figure size 432x288 with 1 Axes>"
      ]
     },
     "metadata": {
      "needs_background": "light"
     },
     "output_type": "display_data"
    }
   ],
   "source": [
    "print(score)\n",
    "print('Finished at {}, saving the results as graphs.'.format(datetime.datetime.now()))\n",
    "\n",
    "#Accuracy plot\n",
    "plt.plot(history.history['acc'])\n",
    "plt.title('model accuracy')\n",
    "plt.ylabel('accuracy')\n",
    "\n",
    "plt.xlabel('epoch')\n",
    "plt.legend(['train'], loc='upper left')\n",
    "# plt.savefig(save_path + tag + 'model_accuracy' + str(score[1]) + '.pdf')\n",
    "plt.show()\n",
    "\n",
    "#Loss plot\n",
    "plt.plot(history.history['loss'])\n",
    "plt.title('model loss')\n",
    "plt.ylabel('loss')\n",
    "plt.xlabel('epoch')\n",
    "plt.legend(['train'], loc='upper left')\n",
    "# plt.savefig(save_path + tag + 'model_loss' + str(score[1]) + '.pdf')\n",
    "plt.show()"
   ]
  }
 ],
 "metadata": {
  "kernelspec": {
   "display_name": "Python 3",
   "language": "python",
   "name": "python3"
  },
  "language_info": {
   "codemirror_mode": {
    "name": "ipython",
    "version": 3
   },
   "file_extension": ".py",
   "mimetype": "text/x-python",
   "name": "python",
   "nbconvert_exporter": "python",
   "pygments_lexer": "ipython3",
   "version": "3.6.8"
  }
 },
 "nbformat": 4,
 "nbformat_minor": 2
}
