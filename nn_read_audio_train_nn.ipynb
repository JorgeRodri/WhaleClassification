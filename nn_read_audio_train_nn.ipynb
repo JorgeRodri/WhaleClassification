{
 "cells": [
  {
   "cell_type": "code",
   "execution_count": 1,
   "metadata": {
    "pycharm": {
     "is_executing": false
    }
   },
   "outputs": [],
   "source": [
    "# python basic pacakages\n",
    "import aifc\n",
    "import os\n",
    "import datetime\n",
    "from os import listdir\n",
    "from os.path import isfile, join\n",
    "import csv\n",
    "\n",
    "# required packags\n",
    "import tensorflow as tf\n",
    "import numpy as np\n",
    "import pandas as pd\n",
    "\n",
    "from matplotlib import mlab\n",
    "import matplotlib.pyplot as plt\n",
    "from sklearn.model_selection import train_test_split\n",
    "\n",
    "# my packages\n",
    "from DataManager.Audio import *\n",
    "from DataManager.General import *"
   ]
  },
  {
   "cell_type": "code",
   "execution_count": 5,
   "metadata": {},
   "outputs": [],
   "source": [
    "# labels_path = \"C:\\\\Users\\\\jorge\\\\DatasetsTFM\\\\KaggleData\\\\train.csv\"\n",
    "# train_path = \"C:\\\\Users\\\\jorge\\\\DatasetsTFM\\\\KaggleData\\\\train\"\n",
    "\n",
    "labels_path = \"data/train.csv\"\n",
    "train_path = \"data/train\"\n",
    "redux_train_path = \"data/train2\"\n",
    "\n",
    "audiofiles = [os.path.join(train_path, f) for f in listdir(train_path) if isfile(join(train_path, f))]\n",
    "audiofiles_redux = [os.path.join(redux_train_path, f) \n",
    "                    for f in listdir(redux_train_path) if isfile(join(redux_train_path, f))]\n",
    "\n",
    "limitator = None"
   ]
  },
  {
   "cell_type": "code",
   "execution_count": 6,
   "metadata": {},
   "outputs": [
    {
     "name": "stdout",
     "output_type": "stream",
     "text": [
      "Generating train and test split\n"
     ]
    }
   ],
   "source": [
    "labels_dict = get_labels(labels_path)\n",
    "\n",
    "seconds_in_sound = 1.7\n",
    "p_cut = seconds_in_sound/2\n",
    "top_hz = -1\n",
    "\n",
    "# Get a random permutation to remove ordering bias\n",
    "np.random.shuffle(audiofiles)\n",
    "\n",
    "# convert the list of files to numpy arrays and select a random smaller version if limitador is not None\n",
    "X_path = np.array(audiofiles)[:limitator]\n",
    "\n",
    "# Start the process of data extraction, spectrogram transformation and data enhancement\n",
    "print('Generating train and test split')\n",
    "X_train_path, X_test_path = train_test_split(X_path, test_size=0.2)"
   ]
  },
  {
   "cell_type": "code",
   "execution_count": 14,
   "metadata": {},
   "outputs": [],
   "source": [
    "p = sum([int(labels_dict[i.split('/')[-1]]) for i in X_train_path]) / X_train_path.shape[0]"
   ]
  },
  {
   "cell_type": "code",
   "execution_count": 19,
   "metadata": {},
   "outputs": [
    {
     "data": {
      "text/plain": [
       "3.708625"
      ]
     },
     "execution_count": 19,
     "metadata": {},
     "output_type": "execute_result"
    }
   ],
   "source": [
    "89007/24000"
   ]
  },
  {
   "cell_type": "code",
   "execution_count": 20,
   "metadata": {},
   "outputs": [
    {
     "data": {
      "text/plain": [
       "0.38214971856146146"
      ]
     },
     "execution_count": 20,
     "metadata": {},
     "output_type": "execute_result"
    }
   ],
   "source": [
    "6 * p * X_train_path.shape[0] / (X_train_path.shape[0] * 3 + 3 * p *(X_train_path.shape[0]))"
   ]
  },
  {
   "cell_type": "code",
   "execution_count": 8,
   "metadata": {},
   "outputs": [
    {
     "ename": "NameError",
     "evalue": "name 'Y_test' is not defined",
     "output_type": "error",
     "traceback": [
      "\u001b[0;31m---------------------------------------------------------------------------\u001b[0m",
      "\u001b[0;31mNameError\u001b[0m                                 Traceback (most recent call last)",
      "\u001b[0;32m<ipython-input-8-11f41e2fb436>\u001b[0m in \u001b[0;36m<module>\u001b[0;34m\u001b[0m\n\u001b[0;32m----> 1\u001b[0;31m print('Test: Whale %.4f, Not Whale %.4f' % ((Y_test == '1').sum() / Y_test.shape[0], \n\u001b[0m\u001b[1;32m      2\u001b[0m                                             (Y_test == '0').sum() / Y_test.shape[0]))\n\u001b[1;32m      3\u001b[0m \u001b[0;34m\u001b[0m\u001b[0m\n\u001b[1;32m      4\u001b[0m print('Train: Whale %.4f, Not Whale %.4f' % ((Y_train == '1').sum()  / Y_train.shape[0], \n\u001b[1;32m      5\u001b[0m                                              (Y_train == '0').sum()  / Y_train.shape[0]) )\n",
      "\u001b[0;31mNameError\u001b[0m: name 'Y_test' is not defined"
     ]
    }
   ],
   "source": [
    "labels_dict = get_labels(labels_path)\n",
    "\n",
    "print('Test: Whale %.4f, Not Whale %.4f' % ((Y_test == '1').sum() / Y_test.shape[0], \n",
    "                                            (Y_test == '0').sum() / Y_test.shape[0]))\n",
    "\n",
    "print('Train: Whale %.4f, Not Whale %.4f' % ((Y_train == '1').sum()  / Y_train.shape[0], \n",
    "                                             (Y_train == '0').sum()  / Y_train.shape[0]) )"
   ]
  },
  {
   "cell_type": "code",
   "execution_count": 3,
   "metadata": {},
   "outputs": [
    {
     "data": {
      "text/plain": [
       "0.11028197571121005"
      ]
     },
     "execution_count": 3,
     "metadata": {},
     "output_type": "execute_result"
    }
   ],
   "source": [
    "np.array([int(clip_name[-5]) for clip_name in audiofiles_redux]).sum()/len(audiofiles_redux)"
   ]
  },
  {
   "cell_type": "code",
   "execution_count": 4,
   "metadata": {},
   "outputs": [
    {
     "name": "stdout",
     "output_type": "stream",
     "text": [
      "Generating train and test split\n",
      "Getting test spectrograms\n",
      "Getting train spectrograms + enhancement\n",
      "Getting even more data adding noise to whale calls\n",
      "Test (10, 128, 50)\n",
      "Train (153, 128, 50)\n"
     ]
    }
   ],
   "source": [
    "labels_dict = get_labels(labels_path)\n",
    "\n",
    "seconds_in_sound = 1.7\n",
    "p_cut = seconds_in_sound/2\n",
    "top_hz = -1\n",
    "\n",
    "# Get a random permutation to remove ordering bias\n",
    "np.random.shuffle(audiofiles)\n",
    "\n",
    "# convert the list of files to numpy arrays and select a random smaller version if limitador is not None\n",
    "X_path = np.array(audiofiles)[:limitator]\n",
    "\n",
    "# Start the process of data extraction, spectrogram transformation and data enhancement\n",
    "print('Generating train and test split')\n",
    "X_train_path, X_test_path = train_test_split(X_path, test_size=0.2)\n",
    "\n",
    "print('Getting test spectrograms')\n",
    "X_test, Y_test = get_spects(X_test_path, labels_dict, p=p_cut, top_hz=top_hz)\n",
    "\n",
    "# print('Getting test spectrograms')\n",
    "# X_train, Y_train = get_spects(X_train_path, labels_dict)\n",
    "\n",
    "print('Getting train spectrograms + enhancement')\n",
    "X_train, Y_train = get_spects_enhanced(X_train_path, labels_dict, p=p_cut, top_hz=top_hz)\n",
    "\n",
    "print('Getting even more data adding noise to whale calls')\n",
    "X_enhanced, Y_enhanced = enhance_with_noise(X_train, Y_train)\n",
    "\n",
    "X_train, Y_train = np.concatenate([X_train, X_enhanced]), np.concatenate([Y_train, Y_enhanced])\n",
    "\n",
    "print('Test', X_test.shape)\n",
    "\n",
    "print('Train', X_train.shape)\n"
   ]
  },
  {
   "cell_type": "code",
   "execution_count": null,
   "metadata": {},
   "outputs": [],
   "source": [
    "def f(x):\n",
    "    return x / x.max()\n",
    "    \n",
    "for i in range(X_train.shape[0]):\n",
    "    n_index = i\n",
    "    X_train_t = np.array(list(map(f, X_train)))\n",
    "    plt.imshow(X_train_t[n_index])\n",
    "    plt.title(Y_train[n_index])\n",
    "    plt.show()\n",
    "    if i > 4:\n",
    "        print(X_train_t[n_index].mean())\n",
    "        break"
   ]
  },
  {
   "cell_type": "code",
   "execution_count": 2,
   "metadata": {},
   "outputs": [
    {
     "ename": "NameError",
     "evalue": "name 'X_train' is not defined",
     "output_type": "error",
     "traceback": [
      "\u001b[0;31m---------------------------------------------------------------------------\u001b[0m",
      "\u001b[0;31mNameError\u001b[0m                                 Traceback (most recent call last)",
      "\u001b[0;32m<ipython-input-2-92a7eab4c666>\u001b[0m in \u001b[0;36m<module>\u001b[0;34m\u001b[0m\n\u001b[1;32m      2\u001b[0m     \u001b[0;32mreturn\u001b[0m \u001b[0mnp\u001b[0m\u001b[0;34m.\u001b[0m\u001b[0mlog\u001b[0m\u001b[0;34m(\u001b[0m\u001b[0mx\u001b[0m\u001b[0;34m)\u001b[0m\u001b[0;34m\u001b[0m\u001b[0;34m\u001b[0m\u001b[0m\n\u001b[1;32m      3\u001b[0m \u001b[0;34m\u001b[0m\u001b[0m\n\u001b[0;32m----> 4\u001b[0;31m \u001b[0;32mfor\u001b[0m \u001b[0mi\u001b[0m \u001b[0;32min\u001b[0m \u001b[0mrange\u001b[0m\u001b[0;34m(\u001b[0m\u001b[0mX_train\u001b[0m\u001b[0;34m.\u001b[0m\u001b[0mshape\u001b[0m\u001b[0;34m[\u001b[0m\u001b[0;36m0\u001b[0m\u001b[0;34m]\u001b[0m\u001b[0;34m)\u001b[0m\u001b[0;34m:\u001b[0m\u001b[0;34m\u001b[0m\u001b[0;34m\u001b[0m\u001b[0m\n\u001b[0m\u001b[1;32m      5\u001b[0m     \u001b[0mn_index\u001b[0m \u001b[0;34m=\u001b[0m \u001b[0mi\u001b[0m\u001b[0;34m\u001b[0m\u001b[0;34m\u001b[0m\u001b[0m\n\u001b[1;32m      6\u001b[0m     \u001b[0mX_train_t\u001b[0m \u001b[0;34m=\u001b[0m \u001b[0mnp\u001b[0m\u001b[0;34m.\u001b[0m\u001b[0marray\u001b[0m\u001b[0;34m(\u001b[0m\u001b[0mlist\u001b[0m\u001b[0;34m(\u001b[0m\u001b[0mmap\u001b[0m\u001b[0;34m(\u001b[0m\u001b[0mf\u001b[0m\u001b[0;34m,\u001b[0m \u001b[0mX_train\u001b[0m\u001b[0;34m)\u001b[0m\u001b[0;34m)\u001b[0m\u001b[0;34m)\u001b[0m\u001b[0;34m\u001b[0m\u001b[0;34m\u001b[0m\u001b[0m\n",
      "\u001b[0;31mNameError\u001b[0m: name 'X_train' is not defined"
     ]
    }
   ],
   "source": [
    "def f(x):\n",
    "    return np.log(x)\n",
    "    \n",
    "for i in range(X_train.shape[0]):\n",
    "    n_index = i\n",
    "    X_train_t = np.array(list(map(f, X_train)))\n",
    "    plt.imshow(X_train_t[n_index])\n",
    "    plt.title(Y_train[n_index])\n",
    "    plt.show()\n",
    "    if i > 4:\n",
    "        print(X_train_t[n_index].mean())\n",
    "        break"
   ]
  },
  {
   "cell_type": "code",
   "execution_count": 28,
   "metadata": {},
   "outputs": [
    {
     "data": {
      "text/plain": [
       "(32, 32)"
      ]
     },
     "execution_count": 28,
     "metadata": {},
     "output_type": "execute_result"
    }
   ],
   "source": [
    "# from pillow import imresize\n",
    "from PIL import Image\n",
    "\n",
    "a = Image.fromarray(X_train[0][:60]).convert(\"L\").resize([32, 32])\n",
    "np.array(a).shape"
   ]
  },
  {
   "cell_type": "code",
   "execution_count": 21,
   "metadata": {
    "scrolled": true
   },
   "outputs": [
    {
     "data": {
      "text/plain": [
       "<matplotlib.image.AxesImage at 0x7fbd95f80518>"
      ]
     },
     "execution_count": 21,
     "metadata": {},
     "output_type": "execute_result"
    },
    {
     "data": {
      "image/png": "[encoded data removed]",
      "text/plain": [
       "<Figure size 432x288 with 1 Axes>"
      ]
     },
     "metadata": {
      "needs_background": "light"
     },
     "output_type": "display_data"
    }
   ],
   "source": [
    "plt.imshow(X_train[0])"
   ]
  },
  {
   "cell_type": "markdown",
   "metadata": {},
   "source": [
    "\n",
    "## Normalize small"
   ]
  },
  {
   "cell_type": "code",
   "execution_count": 16,
   "metadata": {},
   "outputs": [
    {
     "data": {
      "text/plain": [
       "(16.092656869157473, -0.40397824940597254)"
      ]
     },
     "execution_count": 16,
     "metadata": {},
     "output_type": "execute_result"
    }
   ],
   "source": [
    "np.array(list(map(f_norm, X_train)))[0].max(), np.array(list(map(f_norm, X_train)))[0].min()"
   ]
  },
  {
   "cell_type": "code",
   "execution_count": 30,
   "metadata": {},
   "outputs": [],
   "source": [
    "\n",
    "def imagery(x, new_shape, top_hz):\n",
    "\n",
    "    return np.array(Image.fromarray(X_train[0][:top_hz]).convert(\"L\").resize(new_shape))\n",
    "\n",
    "def f(x):\n",
    "    return x / x.max()\n",
    "\n",
    "def log_norm(x):\n",
    "    log_spect = np.log(x + 1)\n",
    "    return log_spect / log_spect.max()\n",
    "\n",
    "def f_05(x):\n",
    "    x_min = x.min()\n",
    "    return (x - x_min) / (x.max() - x_min) - .5\n",
    "\n",
    "\n",
    "def f_norm(x):\n",
    "    x_min = x.min()\n",
    "    return (x - x.mean()) / x.std()\n",
    "    \n",
    "\n",
    "X_train = np.array(list(map(lambda x: imagery(x, [32,32], 60), X_train)))\n",
    "X_test = np.array(list(map(lambda x: imagery(x, [32,32], 60), X_test)))\n"
   ]
  },
  {
   "cell_type": "code",
   "execution_count": 31,
   "metadata": {},
   "outputs": [
    {
     "name": "stdout",
     "output_type": "stream",
     "text": [
      "Test: Whale 0.4000, Not Whale 0.6000\n",
      "Train: Whale 0.4314, Not Whale 0.5686\n"
     ]
    }
   ],
   "source": [
    "print('Test: Whale %.4f, Not Whale %.4f' % ((Y_test == '1').sum() / Y_test.shape[0], \n",
    "                                            (Y_test == '0').sum() / Y_test.shape[0]))\n",
    "\n",
    "print('Train: Whale %.4f, Not Whale %.4f' % ((Y_train == '1').sum()  / Y_train.shape[0], \n",
    "                                             (Y_train == '0').sum()  / Y_train.shape[0]) )"
   ]
  },
  {
   "cell_type": "code",
   "execution_count": 32,
   "metadata": {},
   "outputs": [
    {
     "data": {
      "text/plain": [
       "'Tamaño en memoria de los datos de training aprox: 0.00GB'"
      ]
     },
     "execution_count": 32,
     "metadata": {},
     "output_type": "execute_result"
    }
   ],
   "source": [
    "'Tamaño en memoria de los datos de training aprox: %.2fGB' % (X_train.nbytes/2**10/2**10/2**10)"
   ]
  },
  {
   "cell_type": "code",
   "execution_count": 33,
   "metadata": {},
   "outputs": [],
   "source": [
    "Y_train, Y_test = Y_train.astype(int), Y_test.astype(int)\n",
    "X_train = X_train.reshape(X_train.shape[0], X_train.shape[1], X_train.shape[2], 1)\n",
    "\n",
    "Y_train, Y_test = tf.keras.utils.to_categorical(Y_train, 2), tf.keras.utils.to_categorical(Y_test, 2) \n",
    "Y_train, Y_test =  Y_train.astype(int), Y_test.astype(int)\n",
    "X_test = X_test.reshape(X_test.shape[0], X_test.shape[1], X_test.shape[2], 1)"
   ]
  },
  {
   "cell_type": "code",
   "execution_count": 42,
   "metadata": {},
   "outputs": [],
   "source": [
    "def create_base_network(input_shape, kernel_size=(6,6), final_dimension=12, regularization=0.011):\n",
    "    # model building\n",
    "    model = tf.keras.models.Sequencial()\n",
    "    # convolutional layer with rectified linear unit activation\n",
    "    # flatten since too many dimensions, we only want a classification output\n",
    "    model.add(tf.keras.models.Conv2D(1, kernel_size=kernel_size,\n",
    "                     activation='relu',\n",
    "                     input_shape=input_shape, kernel_initializer=init,\n",
    "                bias_initializer='zeros',\n",
    "                kernel_regularizer=regularizers.l1(regularization),#0.011\n",
    "                bias_regularizer=regularizers.l1(regularization)))#0.011\n",
    "    \n",
    "    model.add(tf.keras.models.Dropout(0.5))\n",
    "    model.add(tf.keras.models.Conv2D(1, kernel_size=kernel_size,\n",
    "                    activation='relu', kernel_initializer=init,\n",
    "                bias_initializer='zeros',\n",
    "                kernel_regularizer=regularizers.l1(regularization),#0.011\n",
    "                bias_regularizer=regularizers.l1(regularization)))#0.011\n",
    "    \n",
    "    model.add(tf.keras.models.Dropout(0.5))\n",
    "    # things to test in order to increase the performance of the mdel\n",
    "    # play a little with the kernel sizes - test values: (6,6)\n",
    "    # change the optimization function - \n",
    "    model.add(tf.keras.models.Flatten())\n",
    "    # embedding sizes with better results seem to be between [8,15[\n",
    "    model.add(tf.keras.models.Dense(final_dimension, activation='softmax', kernel_initializer=init,\n",
    "                bias_initializer='zeros'))#13\n",
    "    print(model.summary())\n",
    "    return model\n",
    "\n",
    "\n",
    "class siamese:\n",
    "    def __init__(self, input_shape, regularization=0.011, kernel_size=(6,6), final_dimension=12, learning_rate=0.0004, margin=1.2):\n",
    "        self.base_network = create_base_network(input_shape, kernel_size, final_dimension, regularization)\n",
    "\n",
    "        input_a = Input(shape=input_shape)\n",
    "        input_b = Input(shape=input_shape)\n",
    "\n",
    "        # because we re-use the same instance `base_network`,\n",
    "        # the weights of the network\n",
    "        # will be shared across the two branches\n",
    "        processed_a = self.base_network(input_a)\n",
    "        processed_b = self.base_network(input_b)\n",
    "\n",
    "        distance = Lambda(cosine_distance,  # compare this results with euclidean\n",
    "                          output_shape=cos_dist_output_shape)([processed_a, \n",
    "                          processed_b])\n",
    "\n",
    "        model = Model([input_a, input_b], distance)\n",
    "\n",
    "        adam = Adam(lr=learning_rate)\n",
    "        loss_function = contrastive_loss(margin)\n",
    "        model.compile(loss=loss_function.loss, optimizer=adam, metrics=[accuracy])\n",
    "        self.model = model\n",
    "\n",
    "    def save_base_network(self, k):\n",
    "        (self.base_network).save_weights(\"./validation_models/base_network_partition_\" + str(k) + \".h5\")\n",
    "        \n",
    "        \n",
    "class winners:\n",
    "    model = tf.keras.models.Sequential([\n",
    "            tf.keras.layers.Conv2D(20, kernel_size=(7, 7), activation=tf.nn.relu, \n",
    "                                   input_shape=X_train.shape[1:], name='Conv1'),\n",
    "            tf.keras.layers.Dropout(0.2),  \n",
    "            tf.keras.layers.MaxPooling2D(pool_size=(2, 2)),\n",
    "            tf.keras.layers.Conv2D(40, kernel_size=(7, 7), activation=tf.nn.relu, name='Conv2'),\n",
    "            tf.keras.layers.MaxPooling2D(pool_size=(2, 2)),\n",
    "            tf.keras.layers.Flatten(),\n",
    "            tf.keras.layers.Dense(512, activation=tf.nn.relu, name=\"Dense1\"),\n",
    "            tf.keras.layers.Dropout(0.6),\n",
    "            tf.keras.layers.Dense(2, activation=tf.nn.softmax, name=\"Softmax\")\n",
    "            ])\n",
    "    \n",
    "class winners_regression:\n",
    "    model = tf.keras.models.Sequential([\n",
    "            tf.keras.layers.Conv2D(20, kernel_size=(7, 7), activation=tf.nn.relu, \n",
    "                                   input_shape=X_train.shape[1:], name='Conv1'),\n",
    "            tf.keras.layers.Dropout(0.2),  \n",
    "            tf.keras.layers.MaxPooling2D(pool_size=(2, 2)),\n",
    "            tf.keras.layers.Conv2D(40, kernel_size=(7, 7), activation=tf.nn.relu, name='Conv2'),\n",
    "            tf.keras.layers.MaxPooling2D(pool_size=(2, 2)),\n",
    "            tf.keras.layers.Flatten(),\n",
    "            tf.keras.layers.Dense(512, activation=tf.nn.relu, name=\"Dense1\"),\n",
    "            tf.keras.layers.Dropout(0.6),\n",
    "            tf.keras.layers.Dense(1, activation=tf.nn.sigmoid, name=\"Regression\")\n",
    "            ])\n",
    "    \n",
    "class bigger:\n",
    "    model = tf.keras.models.Sequential()\n",
    "    model.add(tf.keras.layers.Conv2D(32, kernel_size=(7, 7), activation='relu', input_shape=X_train.shape[1:]))\n",
    "    model.add(tf.keras.layers.BatchNormalization())\n",
    "    model.add(tf.keras.layers.MaxPooling2D(pool_size=(2, 2)))\n",
    "    model.add(tf.keras.layers.Conv2D(64, kernel_size=(5, 5), activation='relu'))\n",
    "    model.add(tf.keras.layers.BatchNormalization())\n",
    "    model.add(tf.keras.layers.Conv2D(32, kernel_size=(3, 3), activation='relu'))\n",
    "    model.add(tf.keras.layers.BatchNormalization())\n",
    "    model.add(tf.keras.layers.Flatten())\n",
    "    model.add(tf.keras.layers.Dense(500, activation='relu'))\n",
    "    model.add(tf.keras.layers.BatchNormalization())\n",
    "    model.add(tf.keras.layers.Dense(500, activation='relu'))\n",
    "    model.add(tf.keras.layers.BatchNormalization())\n",
    "    model.add(tf.keras.layers.Dense(2, activation='softmax'))\n",
    "    \n",
    "class cnn32:\n",
    "    model = tf.keras.models.Sequential()\n",
    "    model.add(tf.keras.layers.Conv2D(64, kernel_size=(7, 7), activation='relu', input_shape=X_train.shape[1:]))\n",
    "    model.add(tf.keras.layers.BatchNormalization())\n",
    "    model.add(tf.keras.layers.Dropout(0.2))\n",
    "    model.add(tf.keras.layers.MaxPooling2D(pool_size=(2, 2)))\n",
    "    model.add(tf.keras.layers.Conv2D(128, kernel_size=(5, 5), activation='relu'))\n",
    "    model.add(tf.keras.layers.BatchNormalization())\n",
    "    model.add(tf.keras.layers.Dropout(0.2))\n",
    "    model.add(tf.keras.layers.Conv2D(64, kernel_size=(3, 3), activation='relu'))\n",
    "    model.add(tf.keras.layers.BatchNormalization())\n",
    "    model.add(tf.keras.layers.Dropout(0.2))\n",
    "\n",
    "    model.add(tf.keras.layers.Flatten())\n",
    "    model.add(tf.keras.layers.Dense(500, activation='relu'))\n",
    "    model.add(tf.keras.layers.Dropout(0.5))\n",
    "    model.add(tf.keras.layers.BatchNormalization())\n",
    "    model.add(tf.keras.layers.Dense(500, activation='relu'))\n",
    "    model.add(tf.keras.layers.Dropout(0.5))\n",
    "    model.add(tf.keras.layers.BatchNormalization())\n",
    "    model.add(tf.keras.layers.Dense(2, activation='softmax'))\n"
   ]
  },
  {
   "cell_type": "code",
   "execution_count": null,
   "metadata": {},
   "outputs": [],
   "source": []
  },
  {
   "cell_type": "code",
   "execution_count": 43,
   "metadata": {
    "scrolled": true
   },
   "outputs": [
    {
     "name": "stdout",
     "output_type": "stream",
     "text": [
      "Training model\n",
      "Train on 122 samples, validate on 31 samples\n",
      "Epoch 1/75\n",
      "122/122 - 1s - loss: 1.1112 - acc: 0.4836 - val_loss: 15.3791 - val_acc: 0.0000e+00\n",
      "Epoch 2/75\n",
      "122/122 - 0s - loss: 0.8300 - acc: 0.6230 - val_loss: 15.3791 - val_acc: 0.0000e+00\n",
      "Epoch 3/75\n",
      "122/122 - 0s - loss: 1.0246 - acc: 0.5000 - val_loss: 15.3791 - val_acc: 0.0000e+00\n",
      "Epoch 4/75\n",
      "122/122 - 0s - loss: 0.9841 - acc: 0.5000 - val_loss: 15.3791 - val_acc: 0.0000e+00\n",
      "Epoch 5/75\n",
      "122/122 - 0s - loss: 1.0855 - acc: 0.5410 - val_loss: 15.3791 - val_acc: 0.0000e+00\n",
      "Epoch 6/75\n",
      "122/122 - 1s - loss: 0.7490 - acc: 0.6311 - val_loss: 15.3791 - val_acc: 0.0000e+00\n",
      "Epoch 7/75\n",
      "122/122 - 0s - loss: 0.8501 - acc: 0.6393 - val_loss: 15.3791 - val_acc: 0.0000e+00\n",
      "Epoch 8/75\n",
      "122/122 - 0s - loss: 0.8217 - acc: 0.6311 - val_loss: 15.3791 - val_acc: 0.0000e+00\n",
      "Epoch 9/75\n",
      "122/122 - 0s - loss: 0.9601 - acc: 0.6311 - val_loss: 15.3791 - val_acc: 0.0000e+00\n",
      "Epoch 10/75\n",
      "122/122 - 0s - loss: 1.0009 - acc: 0.5902 - val_loss: 15.3791 - val_acc: 0.0000e+00\n",
      "Epoch 11/75\n",
      "122/122 - 0s - loss: 1.1615 - acc: 0.5164 - val_loss: 15.3791 - val_acc: 0.0000e+00\n",
      "Epoch 12/75\n",
      "122/122 - 0s - loss: 0.8092 - acc: 0.6311 - val_loss: 15.3791 - val_acc: 0.0000e+00\n",
      "Epoch 13/75\n",
      "122/122 - 1s - loss: 0.8427 - acc: 0.6066 - val_loss: 15.3791 - val_acc: 0.0000e+00\n",
      "Epoch 14/75\n",
      "122/122 - 0s - loss: 0.8501 - acc: 0.5656 - val_loss: 15.3791 - val_acc: 0.0000e+00\n",
      "Epoch 15/75\n",
      "122/122 - 0s - loss: 0.8598 - acc: 0.6148 - val_loss: 15.3791 - val_acc: 0.0000e+00\n",
      "Epoch 16/75\n",
      "122/122 - 0s - loss: 0.8761 - acc: 0.5984 - val_loss: 14.1569 - val_acc: 0.0000e+00\n",
      "Epoch 17/75\n",
      "122/122 - 0s - loss: 0.9170 - acc: 0.5738 - val_loss: 11.9724 - val_acc: 0.0000e+00\n",
      "Epoch 18/75\n",
      "122/122 - 1s - loss: 0.8209 - acc: 0.6066 - val_loss: 11.4897 - val_acc: 0.0000e+00\n",
      "Epoch 19/75\n",
      "122/122 - 0s - loss: 0.9138 - acc: 0.6148 - val_loss: 9.7108 - val_acc: 0.0000e+00\n",
      "Epoch 20/75\n",
      "122/122 - 0s - loss: 0.8154 - acc: 0.5984 - val_loss: 8.9966 - val_acc: 0.0000e+00\n",
      "Epoch 21/75\n",
      "122/122 - 0s - loss: 0.7828 - acc: 0.6393 - val_loss: 6.1629 - val_acc: 0.0000e+00\n",
      "Epoch 22/75\n",
      "122/122 - 0s - loss: 0.9394 - acc: 0.5656 - val_loss: 4.6584 - val_acc: 0.0000e+00\n",
      "Epoch 23/75\n",
      "122/122 - 0s - loss: 0.8402 - acc: 0.5820 - val_loss: 3.8535 - val_acc: 0.0000e+00\n",
      "Epoch 24/75\n",
      "122/122 - 0s - loss: 0.8812 - acc: 0.6066 - val_loss: 2.4847 - val_acc: 0.0000e+00\n",
      "Epoch 25/75\n",
      "122/122 - 1s - loss: 0.7718 - acc: 0.5984 - val_loss: 2.5590 - val_acc: 0.0000e+00\n",
      "Epoch 26/75\n",
      "122/122 - 0s - loss: 0.9832 - acc: 0.5656 - val_loss: 1.4424 - val_acc: 0.0000e+00\n",
      "Epoch 27/75\n",
      "122/122 - 0s - loss: 0.8687 - acc: 0.6475 - val_loss: 0.7120 - val_acc: 0.0000e+00\n",
      "Epoch 28/75\n",
      "122/122 - 0s - loss: 0.8641 - acc: 0.5984 - val_loss: 0.3062 - val_acc: 1.0000\n",
      "Epoch 29/75\n",
      "122/122 - 0s - loss: 0.9147 - acc: 0.5902 - val_loss: 0.2202 - val_acc: 1.0000\n",
      "Epoch 30/75\n",
      "122/122 - 0s - loss: 0.7925 - acc: 0.6393 - val_loss: 0.5562 - val_acc: 1.0000\n",
      "Epoch 31/75\n",
      "122/122 - 1s - loss: 0.8844 - acc: 0.5738 - val_loss: 0.7265 - val_acc: 0.0000e+00\n",
      "Epoch 32/75\n",
      "122/122 - 0s - loss: 0.7042 - acc: 0.6393 - val_loss: 0.7047 - val_acc: 0.0000e+00\n",
      "Epoch 33/75\n",
      "122/122 - 0s - loss: 0.8874 - acc: 0.5984 - val_loss: 0.5357 - val_acc: 1.0000\n",
      "Epoch 34/75\n",
      "122/122 - 0s - loss: 0.9295 - acc: 0.6230 - val_loss: 0.7315 - val_acc: 0.0000e+00\n",
      "Epoch 35/75\n",
      "122/122 - 0s - loss: 0.9162 - acc: 0.6066 - val_loss: 1.1168 - val_acc: 0.0000e+00\n",
      "Epoch 36/75\n",
      "122/122 - 0s - loss: 0.8213 - acc: 0.5902 - val_loss: 1.3638 - val_acc: 0.0000e+00\n",
      "Epoch 37/75\n",
      "122/122 - 1s - loss: 0.7704 - acc: 0.6311 - val_loss: 1.2020 - val_acc: 0.0000e+00\n",
      "Epoch 38/75\n",
      "122/122 - 0s - loss: 1.1153 - acc: 0.5410 - val_loss: 1.3111 - val_acc: 0.0000e+00\n",
      "Epoch 39/75\n",
      "122/122 - 0s - loss: 0.8623 - acc: 0.5738 - val_loss: 1.3670 - val_acc: 0.0000e+00\n",
      "Epoch 40/75\n",
      "122/122 - 0s - loss: 0.9975 - acc: 0.5738 - val_loss: 1.3621 - val_acc: 0.0000e+00\n",
      "Epoch 41/75\n",
      "122/122 - 0s - loss: 0.7265 - acc: 0.6557 - val_loss: 1.3582 - val_acc: 0.0000e+00\n",
      "Epoch 42/75\n",
      "122/122 - 0s - loss: 0.8118 - acc: 0.6721 - val_loss: 1.4024 - val_acc: 0.0000e+00\n",
      "Epoch 43/75\n",
      "122/122 - 1s - loss: 0.8172 - acc: 0.5984 - val_loss: 1.4003 - val_acc: 0.0000e+00\n",
      "Epoch 44/75\n",
      "122/122 - 0s - loss: 0.8613 - acc: 0.5820 - val_loss: 1.2709 - val_acc: 0.0000e+00\n",
      "Epoch 45/75\n",
      "122/122 - 0s - loss: 0.9191 - acc: 0.5738 - val_loss: 1.2862 - val_acc: 0.0000e+00\n",
      "Epoch 46/75\n",
      "122/122 - 0s - loss: 0.9663 - acc: 0.5902 - val_loss: 1.3028 - val_acc: 0.0000e+00\n",
      "Epoch 47/75\n",
      "122/122 - 0s - loss: 0.8613 - acc: 0.6393 - val_loss: 1.3461 - val_acc: 0.0000e+00\n",
      "Epoch 48/75\n",
      "122/122 - 0s - loss: 0.8386 - acc: 0.5984 - val_loss: 1.3925 - val_acc: 0.0000e+00\n",
      "Epoch 49/75\n",
      "122/122 - 1s - loss: 0.8069 - acc: 0.5902 - val_loss: 1.3174 - val_acc: 0.0000e+00\n",
      "Epoch 50/75\n",
      "122/122 - 0s - loss: 0.9671 - acc: 0.6066 - val_loss: 1.2594 - val_acc: 0.0000e+00\n",
      "Epoch 51/75\n",
      "122/122 - 0s - loss: 0.7268 - acc: 0.6393 - val_loss: 1.1710 - val_acc: 0.0000e+00\n",
      "Epoch 52/75\n",
      "122/122 - 0s - loss: 0.8756 - acc: 0.6066 - val_loss: 1.2029 - val_acc: 0.0000e+00\n",
      "Epoch 53/75\n",
      "122/122 - 0s - loss: 0.7525 - acc: 0.7049 - val_loss: 1.1598 - val_acc: 0.0000e+00\n",
      "Epoch 54/75\n",
      "122/122 - 0s - loss: 0.8917 - acc: 0.6066 - val_loss: 1.2350 - val_acc: 0.0000e+00\n",
      "Epoch 55/75\n",
      "122/122 - 1s - loss: 0.8576 - acc: 0.6230 - val_loss: 1.4160 - val_acc: 0.0000e+00\n",
      "Epoch 56/75\n",
      "122/122 - 0s - loss: 0.9169 - acc: 0.5820 - val_loss: 1.4311 - val_acc: 0.0000e+00\n",
      "Epoch 57/75\n",
      "122/122 - 0s - loss: 0.8836 - acc: 0.5902 - val_loss: 1.3540 - val_acc: 0.0000e+00\n",
      "Epoch 58/75\n",
      "122/122 - 0s - loss: 0.9024 - acc: 0.5902 - val_loss: 1.4183 - val_acc: 0.0000e+00\n",
      "Epoch 59/75\n",
      "122/122 - 0s - loss: 0.8755 - acc: 0.6148 - val_loss: 1.5236 - val_acc: 0.0000e+00\n",
      "Epoch 60/75\n",
      "122/122 - 0s - loss: 0.9172 - acc: 0.6230 - val_loss: 1.6214 - val_acc: 0.0000e+00\n",
      "Epoch 61/75\n",
      "122/122 - 1s - loss: 0.8011 - acc: 0.6557 - val_loss: 1.6739 - val_acc: 0.0000e+00\n",
      "Epoch 62/75\n",
      "122/122 - 1s - loss: 0.9474 - acc: 0.5902 - val_loss: 1.6369 - val_acc: 0.0000e+00\n",
      "Epoch 63/75\n",
      "122/122 - 0s - loss: 0.9162 - acc: 0.6066 - val_loss: 1.7545 - val_acc: 0.0000e+00\n",
      "Epoch 64/75\n",
      "122/122 - 0s - loss: 0.9152 - acc: 0.6311 - val_loss: 1.6997 - val_acc: 0.0000e+00\n",
      "Epoch 65/75\n",
      "122/122 - 0s - loss: 0.8147 - acc: 0.6639 - val_loss: 1.7129 - val_acc: 0.0000e+00\n",
      "Epoch 66/75\n",
      "122/122 - 1s - loss: 0.8565 - acc: 0.6475 - val_loss: 1.8522 - val_acc: 0.0000e+00\n",
      "Epoch 67/75\n",
      "122/122 - 0s - loss: 0.8384 - acc: 0.6148 - val_loss: 1.9379 - val_acc: 0.0000e+00\n",
      "Epoch 68/75\n",
      "122/122 - 0s - loss: 0.8490 - acc: 0.6230 - val_loss: 2.1302 - val_acc: 0.0000e+00\n",
      "Epoch 69/75\n",
      "122/122 - 0s - loss: 1.0214 - acc: 0.5738 - val_loss: 2.3044 - val_acc: 0.0000e+00\n",
      "Epoch 70/75\n",
      "122/122 - 0s - loss: 0.7550 - acc: 0.5984 - val_loss: 2.2909 - val_acc: 0.0000e+00\n",
      "Epoch 71/75\n",
      "122/122 - 1s - loss: 0.7583 - acc: 0.6230 - val_loss: 2.4240 - val_acc: 0.0000e+00\n",
      "Epoch 72/75\n",
      "122/122 - 0s - loss: 0.7623 - acc: 0.6230 - val_loss: 2.4129 - val_acc: 0.0000e+00\n",
      "Epoch 73/75\n",
      "122/122 - 0s - loss: 0.8339 - acc: 0.6803 - val_loss: 2.3849 - val_acc: 0.0000e+00\n",
      "Epoch 74/75\n",
      "122/122 - 0s - loss: 0.7513 - acc: 0.6557 - val_loss: 2.2269 - val_acc: 0.0000e+00\n",
      "Epoch 75/75\n",
      "122/122 - 0s - loss: 0.7269 - acc: 0.6803 - val_loss: 2.1238 - val_acc: 0.0000e+00\n",
      "10/10 [==============================] - 0s 3ms/sample - loss: 0.9259 - acc: 0.6000\n"
     ]
    }
   ],
   "source": [
    "model = cnn32\n",
    "\n",
    "opt = tf.keras.optimizers.SGD(lr=0.01, decay=1e-6, momentum=0.9, nesterov=True)\n",
    "# opt = tf.keras.optimizers.RMSprop(lr=0.001, rho=0.9, epsilon=1e-08, decay=0.0)\n",
    "\n",
    "model.model.compile(optimizer=opt,\n",
    "                    loss='binary_crossentropy', # loss for classification\n",
    "                    loss='mse',  # loss for classification\n",
    "                    metrics=['accuracy'])\n",
    "\n",
    "\n",
    "print('Training model')\n",
    "history = model.model.fit(X_train, Y_train, epochs=75, verbose=2, validation_split=0.2)\n",
    "score = model.model.evaluate(X_test, Y_test)\n"
   ]
  },
  {
   "cell_type": "code",
   "execution_count": 44,
   "metadata": {},
   "outputs": [
    {
     "name": "stdout",
     "output_type": "stream",
     "text": [
      "[0.9259243011474609, 0.6]\n",
      "Finished at 2019-09-28 19:40:04.306209, saving the results as graphs.\n"
     ]
    },
    {
     "data": {
      "image/png": "[encoded data removed]",
      "text/plain": [
       "<Figure size 432x288 with 1 Axes>"
      ]
     },
     "metadata": {
      "needs_background": "light"
     },
     "output_type": "display_data"
    },
    {
     "data": {
      "image/png": "[encoded data removed]",
      "text/plain": [
       "<Figure size 432x288 with 1 Axes>"
      ]
     },
     "metadata": {
      "needs_background": "light"
     },
     "output_type": "display_data"
    }
   ],
   "source": [
    "print(score)\n",
    "print('Finished at {}, saving the results as graphs.'.format(datetime.datetime.now()))\n",
    "\n",
    "#Accuracy plot\n",
    "plt.plot(history.history['acc'])\n",
    "plt.plot(history.history['val_acc'])\n",
    "plt.title('model accuracy')\n",
    "plt.ylabel('accuracy')\n",
    "\n",
    "plt.xlabel('epoch')\n",
    "plt.legend(['train'], loc='upper left')\n",
    "# plt.savefig(save_path + tag + 'model_accuracy' + str(score[1]) + '.pdf')\n",
    "plt.show()\n",
    "\n",
    "#Loss plot\n",
    "plt.plot(history.history['loss'])\n",
    "plt.plot(history.history['val_loss'])\n",
    "plt.title('model loss')\n",
    "plt.ylabel('loss')\n",
    "plt.xlabel('epoch')\n",
    "plt.legend(['train'], loc='upper left')\n",
    "# plt.savefig(save_path + tag + 'model_loss' + str(score[1]) + '.pdf')\n",
    "plt.show()"
   ]
  },
  {
   "cell_type": "code",
   "execution_count": 40,
   "metadata": {},
   "outputs": [],
   "source": [
    "# y_hat"
   ]
  },
  {
   "cell_type": "code",
   "execution_count": 44,
   "metadata": {},
   "outputs": [
    {
     "name": "stdout",
     "output_type": "stream",
     "text": [
      "Analysis of results\n",
      "              precision    recall  f1-score   support\n",
      "\n",
      "    no_whale       0.93      0.96      0.95      6864\n",
      "       whale       0.85      0.79      0.82      2136\n",
      "\n",
      "    accuracy                           0.92      9000\n",
      "   macro avg       0.89      0.87      0.88      9000\n",
      "weighted avg       0.91      0.92      0.92      9000\n",
      "\n",
      "[[6567  297]\n",
      " [ 457 1679]]\n",
      "0.8713897291846731\n",
      "ROC AUC with probabilities 0.9697\n"
     ]
    }
   ],
   "source": [
    "#Confusion Matrix\n",
    "from sklearn.metrics import classification_report,confusion_matrix, roc_auc_score\n",
    "import numpy as np\n",
    "#Compute probabilities\n",
    "Y_pred = model.model.predict(X_test)\n",
    "#Assign most probable label\n",
    "y = np.argmax(Y_test, axis=1)  # Y_test\n",
    "y_hat = np.argmax(Y_pred, axis=1)  # np.round(Y_pred)\n",
    "#Plot statistics\n",
    "print('Analysis of results')\n",
    "target_names = ['no_whale', 'whale']\n",
    "print(classification_report(y, y_hat, target_names=target_names))\n",
    "print(confusion_matrix(y, y_hat))\n",
    "print(roc_auc_score(y, y_hat))\n",
    "\n",
    "y_pred_proba = winners.model.predict_proba(X_test)[::,1]\n",
    "\n",
    "print('\\nROC AUC with probabilities %.4f' % roc_auc_score(y, y_pred_proba))\n"
   ]
  },
  {
   "cell_type": "code",
   "execution_count": 43,
   "metadata": {
    "scrolled": true
   },
   "outputs": [
    {
     "data": {
      "image/png": "[encoded data removed]",
      "text/plain": [
       "<Figure size 432x288 with 1 Axes>"
      ]
     },
     "metadata": {
      "needs_background": "light"
     },
     "output_type": "display_data"
    }
   ],
   "source": [
    "from sklearn import metrics\n",
    "from sklearn.linear_model import LogisticRegression\n",
    "from sklearn.model_selection import train_test_split\n",
    "from sklearn.datasets import load_breast_cancer\n",
    "import matplotlib.pyplot as plt\n",
    "\n",
    "\n",
    "plt.figure(1)\n",
    "plt.plot([0, 1], [0, 1], 'k--')\n",
    "# y_pred_proba = winners.model.predict_proba(X_test)[::,1]\n",
    "fpr, tpr, _ = metrics.roc_curve(y,  y_pred_proba)\n",
    "auc = metrics.roc_auc_score(y, y_pred_proba)\n",
    "plt.plot(fpr,tpr,label='Winners (area = {:.3f})'.format(auc))\n",
    "plt.xlabel('False positive rate')\n",
    "plt.ylabel('True positive rate')\n",
    "plt.title('ROC curve')\n",
    "plt.legend(loc='best')\n",
    "plt.show()"
   ]
  },
  {
   "cell_type": "code",
   "execution_count": null,
   "metadata": {},
   "outputs": [],
   "source": [
    "# python basic pacakages\n",
    "import aifc\n",
    "import os\n",
    "import datetime\n",
    "from os import listdir\n",
    "from os.path import isfile, join\n",
    "import csv\n",
    "\n",
    "# required packags\n",
    "import tensorflow as tf\n",
    "import numpy as np\n",
    "import pandas as pd\n",
    "\n",
    "from matplotlib import mlab\n",
    "import matplotlib.pyplot as plt\n",
    "from sklearn.model_selection import StratifiedKFold\n",
    "\n",
    "# my packages\n",
    "from DataManager.Audio import *\n",
    "from DataManager.General import *\n",
    "\n",
    "\n",
    "def preprocess(files_train, files_test, labels, normalization_function, to_categorical=False):\n",
    "\n",
    "    x_test, y_test = get_spects(files_test, labels)\n",
    "\n",
    "    x_train, y_train = get_spects_enhanced(files_train, labels)\n",
    "    x_enhanced, y_enhanced = enhance_with_noise(x_train, y_train)\n",
    "\n",
    "    x_train, y_train = np.concatenate([x_train, x_enhanced]), np.concatenate([y_train, y_enhanced])\n",
    "\n",
    "    y_train, y_train = y_train.astype(int), y_test.astype(int)\n",
    "    x_train = x_train.reshape(x_train.shape[0], x_train.shape[1], x_train.shape[2], 1)\n",
    "\n",
    "    y_train, y_test = tf.keras.utils.to_categorical(y_train, 2), tf.keras.utils.to_categorical(y_test, 2)\n",
    "    x_test = x_test.reshape(x_test.shape[0], x_test.shape[1], x_test.shape[2], 1)\n",
    "\n",
    "    x_train = np.array(list(map(normalization_function, x_train)))\n",
    "    x_test = np.array(list(map(normalization_function, x_test)))\n",
    "\n",
    "    y_train, y_test = y_train.astype(int), y_test.astype(int)\n",
    "    x_train = x_train.reshape(x_train.shape[0], x_train.shape[1], x_train.shape[2], 1)\n",
    "\n",
    "    if to_categorical:\n",
    "        y_train, y_test = tf.keras.utils.to_categorical(y_train, 2), tf.keras.utils.to_categorical(y_test, 2)\n",
    "    else:\n",
    "        y_train, y_test = y_train.astype(int), y_test.astype(int)\n",
    "\n",
    "    x_test = x_test.reshape(x_test.shape[0], x_test.shape[1], x_test.shape[2], 1)\n",
    "\n",
    "    return x_train, y_train, x_test, y_test\n",
    "\n",
    "\n",
    "def k_fold_cross_validation(x_files, labels_path, model, f_preprocess, n_splits=5, shuffle=True, seed=None):\n",
    "\n",
    "    if seed is not None:\n",
    "        np.random.seed(seed)\n",
    "        kfold = StratifiedKFold(n_splits=n_splits, shuffle=shuffle, random_state=seed)\n",
    "\n",
    "    else:\n",
    "        kfold = StratifiedKFold(n_splits=n_splits, shuffle=shuffle)\n",
    "\n",
    "    cvscores = []\n",
    "    cvhistories = []\n",
    "\n",
    "    opt = tf.keras.optimizers.SGD(lr=0.01, decay=1e-6, momentum=0.9, nesterov=True)\n",
    "\n",
    "    labels_dict = get_labels(labels_path)\n",
    "\n",
    "    for train, test in kfold.split(x_files,  map(lambda x: labels_dict[x], x_files)):\n",
    "        x_train, y_train, x_test, y_test = f_preprocess(x_files[train], x_files[test], labels_dict)\n",
    "        # Compile model\n",
    "        model.compile(optimizer=opt, loss='binary_crossentropy', metrics=['accuracy'])\n",
    "        history = model.model.fit(x_train, y_train, epochs=150, verbose=2, validation_split=0.2)\n",
    "        score = model.model.evaluate(x_test, y_test)\n",
    "        cvhistories.append(history)\n",
    "        print(\"%s: %.2f%%\" % (model.metrics_names[1], score[1] * 100))\n",
    "        cvscores.append(score[1] * 100)\n"
   ]
  },
  {
   "cell_type": "code",
   "execution_count": 86,
   "metadata": {},
   "outputs": [
    {
     "name": "stderr",
     "output_type": "stream",
     "text": [
      "Using TensorFlow backend.\n"
     ]
    },
    {
     "ename": "OSError",
     "evalue": "pima-indians-diabetes.csv not found.",
     "output_type": "error",
     "traceback": [
      "\u001b[0;31m---------------------------------------------------------------------------\u001b[0m",
      "\u001b[0;31mOSError\u001b[0m                                   Traceback (most recent call last)",
      "\u001b[0;32m<ipython-input-86-15d212bb3029>\u001b[0m in \u001b[0;36m<module>\u001b[0;34m\u001b[0m\n\u001b[1;32m      8\u001b[0m \u001b[0mnumpy\u001b[0m\u001b[0;34m.\u001b[0m\u001b[0mrandom\u001b[0m\u001b[0;34m.\u001b[0m\u001b[0mseed\u001b[0m\u001b[0;34m(\u001b[0m\u001b[0mseed\u001b[0m\u001b[0;34m)\u001b[0m\u001b[0;34m\u001b[0m\u001b[0;34m\u001b[0m\u001b[0m\n\u001b[1;32m      9\u001b[0m \u001b[0;31m# load pima indians dataset\u001b[0m\u001b[0;34m\u001b[0m\u001b[0;34m\u001b[0m\u001b[0;34m\u001b[0m\u001b[0m\n\u001b[0;32m---> 10\u001b[0;31m \u001b[0mdataset\u001b[0m \u001b[0;34m=\u001b[0m \u001b[0mnumpy\u001b[0m\u001b[0;34m.\u001b[0m\u001b[0mloadtxt\u001b[0m\u001b[0;34m(\u001b[0m\u001b[0;34m\"pima-indians-diabetes.csv\"\u001b[0m\u001b[0;34m,\u001b[0m \u001b[0mdelimiter\u001b[0m\u001b[0;34m=\u001b[0m\u001b[0;34m\",\"\u001b[0m\u001b[0;34m)\u001b[0m\u001b[0;34m\u001b[0m\u001b[0;34m\u001b[0m\u001b[0m\n\u001b[0m\u001b[1;32m     11\u001b[0m \u001b[0;31m# split into input (X) and output (Y) variables\u001b[0m\u001b[0;34m\u001b[0m\u001b[0;34m\u001b[0m\u001b[0;34m\u001b[0m\u001b[0m\n\u001b[1;32m     12\u001b[0m \u001b[0mX\u001b[0m \u001b[0;34m=\u001b[0m \u001b[0mdataset\u001b[0m\u001b[0;34m[\u001b[0m\u001b[0;34m:\u001b[0m\u001b[0;34m,\u001b[0m\u001b[0;36m0\u001b[0m\u001b[0;34m:\u001b[0m\u001b[0;36m8\u001b[0m\u001b[0;34m]\u001b[0m\u001b[0;34m\u001b[0m\u001b[0;34m\u001b[0m\u001b[0m\n",
      "\u001b[0;32m/scripts/WhaleClassification/tfenv/lib/python3.6/site-packages/numpy/lib/npyio.py\u001b[0m in \u001b[0;36mloadtxt\u001b[0;34m(fname, dtype, comments, delimiter, converters, skiprows, usecols, unpack, ndmin, encoding, max_rows)\u001b[0m\n\u001b[1;32m    960\u001b[0m             \u001b[0mfname\u001b[0m \u001b[0;34m=\u001b[0m \u001b[0mos_fspath\u001b[0m\u001b[0;34m(\u001b[0m\u001b[0mfname\u001b[0m\u001b[0;34m)\u001b[0m\u001b[0;34m\u001b[0m\u001b[0;34m\u001b[0m\u001b[0m\n\u001b[1;32m    961\u001b[0m         \u001b[0;32mif\u001b[0m \u001b[0m_is_string_like\u001b[0m\u001b[0;34m(\u001b[0m\u001b[0mfname\u001b[0m\u001b[0;34m)\u001b[0m\u001b[0;34m:\u001b[0m\u001b[0;34m\u001b[0m\u001b[0;34m\u001b[0m\u001b[0m\n\u001b[0;32m--> 962\u001b[0;31m             \u001b[0mfh\u001b[0m \u001b[0;34m=\u001b[0m \u001b[0mnp\u001b[0m\u001b[0;34m.\u001b[0m\u001b[0mlib\u001b[0m\u001b[0;34m.\u001b[0m\u001b[0m_datasource\u001b[0m\u001b[0;34m.\u001b[0m\u001b[0mopen\u001b[0m\u001b[0;34m(\u001b[0m\u001b[0mfname\u001b[0m\u001b[0;34m,\u001b[0m \u001b[0;34m'rt'\u001b[0m\u001b[0;34m,\u001b[0m \u001b[0mencoding\u001b[0m\u001b[0;34m=\u001b[0m\u001b[0mencoding\u001b[0m\u001b[0;34m)\u001b[0m\u001b[0;34m\u001b[0m\u001b[0;34m\u001b[0m\u001b[0m\n\u001b[0m\u001b[1;32m    963\u001b[0m             \u001b[0mfencoding\u001b[0m \u001b[0;34m=\u001b[0m \u001b[0mgetattr\u001b[0m\u001b[0;34m(\u001b[0m\u001b[0mfh\u001b[0m\u001b[0;34m,\u001b[0m \u001b[0;34m'encoding'\u001b[0m\u001b[0;34m,\u001b[0m \u001b[0;34m'latin1'\u001b[0m\u001b[0;34m)\u001b[0m\u001b[0;34m\u001b[0m\u001b[0;34m\u001b[0m\u001b[0m\n\u001b[1;32m    964\u001b[0m             \u001b[0mfh\u001b[0m \u001b[0;34m=\u001b[0m \u001b[0miter\u001b[0m\u001b[0;34m(\u001b[0m\u001b[0mfh\u001b[0m\u001b[0;34m)\u001b[0m\u001b[0;34m\u001b[0m\u001b[0;34m\u001b[0m\u001b[0m\n",
      "\u001b[0;32m/scripts/WhaleClassification/tfenv/lib/python3.6/site-packages/numpy/lib/_datasource.py\u001b[0m in \u001b[0;36mopen\u001b[0;34m(path, mode, destpath, encoding, newline)\u001b[0m\n\u001b[1;32m    264\u001b[0m \u001b[0;34m\u001b[0m\u001b[0m\n\u001b[1;32m    265\u001b[0m     \u001b[0mds\u001b[0m \u001b[0;34m=\u001b[0m \u001b[0mDataSource\u001b[0m\u001b[0;34m(\u001b[0m\u001b[0mdestpath\u001b[0m\u001b[0;34m)\u001b[0m\u001b[0;34m\u001b[0m\u001b[0;34m\u001b[0m\u001b[0m\n\u001b[0;32m--> 266\u001b[0;31m     \u001b[0;32mreturn\u001b[0m \u001b[0mds\u001b[0m\u001b[0;34m.\u001b[0m\u001b[0mopen\u001b[0m\u001b[0;34m(\u001b[0m\u001b[0mpath\u001b[0m\u001b[0;34m,\u001b[0m \u001b[0mmode\u001b[0m\u001b[0;34m,\u001b[0m \u001b[0mencoding\u001b[0m\u001b[0;34m=\u001b[0m\u001b[0mencoding\u001b[0m\u001b[0;34m,\u001b[0m \u001b[0mnewline\u001b[0m\u001b[0;34m=\u001b[0m\u001b[0mnewline\u001b[0m\u001b[0;34m)\u001b[0m\u001b[0;34m\u001b[0m\u001b[0;34m\u001b[0m\u001b[0m\n\u001b[0m\u001b[1;32m    267\u001b[0m \u001b[0;34m\u001b[0m\u001b[0m\n\u001b[1;32m    268\u001b[0m \u001b[0;34m\u001b[0m\u001b[0m\n",
      "\u001b[0;32m/scripts/WhaleClassification/tfenv/lib/python3.6/site-packages/numpy/lib/_datasource.py\u001b[0m in \u001b[0;36mopen\u001b[0;34m(self, path, mode, encoding, newline)\u001b[0m\n\u001b[1;32m    622\u001b[0m                                       encoding=encoding, newline=newline)\n\u001b[1;32m    623\u001b[0m         \u001b[0;32melse\u001b[0m\u001b[0;34m:\u001b[0m\u001b[0;34m\u001b[0m\u001b[0;34m\u001b[0m\u001b[0m\n\u001b[0;32m--> 624\u001b[0;31m             \u001b[0;32mraise\u001b[0m \u001b[0mIOError\u001b[0m\u001b[0;34m(\u001b[0m\u001b[0;34m\"%s not found.\"\u001b[0m \u001b[0;34m%\u001b[0m \u001b[0mpath\u001b[0m\u001b[0;34m)\u001b[0m\u001b[0;34m\u001b[0m\u001b[0;34m\u001b[0m\u001b[0m\n\u001b[0m\u001b[1;32m    625\u001b[0m \u001b[0;34m\u001b[0m\u001b[0m\n\u001b[1;32m    626\u001b[0m \u001b[0;34m\u001b[0m\u001b[0m\n",
      "\u001b[0;31mOSError\u001b[0m: pima-indians-diabetes.csv not found."
     ]
    }
   ],
   "source": [
    "# MLP for Pima Indians Dataset with 10-fold cross validation\n",
    "from keras.models import Sequential\n",
    "from keras.layers import Dense\n",
    "from sklearn.model_selection import StratifiedKFold\n",
    "import numpy\n",
    "# fix random seed for reproducibility\n",
    "seed = 7\n",
    "numpy.random.seed(seed)\n",
    "# load pima indians dataset\n",
    "dataset = numpy.loadtxt(\"pima-indians-diabetes.csv\", delimiter=\",\")\n",
    "# split into input (X) and output (Y) variables\n",
    "X = dataset[:,0:8]\n",
    "Y = dataset[:,8]\n",
    "# define 10-fold cross validation test harness\n",
    "kfold = StratifiedKFold(n_splits=10, shuffle=True, random_state=seed)\n",
    "cvscores = []\n",
    "for train in kfold.split(X):\n",
    "  # create model\n",
    "\tmodel = Sequential()\n",
    "\tmodel.add(Dense(12, input_dim=8, activation='relu'))\n",
    "\tmodel.add(Dense(8, activation='relu'))\n",
    "\tmodel.add(Dense(1, activation='sigmoid'))\n",
    "\t# Compile model\n",
    "\tmodel.compile(loss='binary_crossentropy', optimizer='adam', metrics=['accuracy'])\n",
    "\t# Fit the model\n",
    "\tmodel.fit(X[train], Y[train], epochs=150, batch_size=10, verbose=0)\n",
    "\t# evaluate the model\n",
    "\tscores = model.evaluate(X[test], Y[test], verbose=0)\n",
    "\tprint(\"%s: %.2f%%\" % (model.metrics_names[1], scores[1]*100))\n",
    "\tcvscores.append(scores[1] * 100)\n",
    "print(\"%.2f%% (+/- %.2f%%)\" % (numpy.mean(cvscores), numpy.std(cvscores)))"
   ]
  },
  {
   "cell_type": "code",
   "execution_count": 13,
   "metadata": {
    "scrolled": true
   },
   "outputs": [
    {
     "data": {
      "text/plain": [
       "[]"
      ]
     },
     "execution_count": 13,
     "metadata": {},
     "output_type": "execute_result"
    },
    {
     "data": {
      "image/png": "[encoded data removed]",
      "text/plain": [
       "<Figure size 864x432 with 1 Axes>"
      ]
     },
     "metadata": {
      "needs_background": "light"
     },
     "output_type": "display_data"
    }
   ],
   "source": [
    "n_s = 4\n",
    "plt.figure(figsize=(12,6))\n",
    "plt.title(np.argmax(Y_test[n_s]))\n",
    "q = plt.hist(X_train[n_s].flatten(), bins=100)\n",
    "plt.plot()"
   ]
  }
 ],
 "metadata": {
  "kernelspec": {
   "display_name": "Python 3",
   "language": "python",
   "name": "python3"
  },
  "language_info": {
   "codemirror_mode": {
    "name": "ipython",
    "version": 3
   },
   "file_extension": ".py",
   "mimetype": "text/x-python",
   "name": "python",
   "nbconvert_exporter": "python",
   "pygments_lexer": "ipython3",
   "version": "3.6.8"
  },
  "pycharm": {
   "stem_cell": {
    "cell_type": "raw",
    "metadata": {
     "collapsed": false
    },
    "source": []
   }
  }
 },
 "nbformat": 4,
 "nbformat_minor": 2
}
